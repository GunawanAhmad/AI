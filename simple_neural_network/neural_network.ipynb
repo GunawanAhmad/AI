{
 "cells": [
  {
   "cell_type": "code",
   "execution_count": 466,
   "metadata": {},
   "outputs": [],
   "source": [
    "import numpy as np"
   ]
  },
  {
   "cell_type": "markdown",
   "metadata": {},
   "source": [
    "## Creating data"
   ]
  },
  {
   "cell_type": "code",
   "execution_count": 467,
   "metadata": {},
   "outputs": [],
   "source": [
    "training_count = 10\n",
    "np.random.seed(1)\n",
    "\n",
    "training_input = np.array([np.random.randint(2, size=5) for i in range(training_count)])\n",
    "\n",
    "training_output = np.array([[np.bincount(training_input[i]).argmax()] for i in range(training_count)])\n",
    "\n"
   ]
  },
  {
   "cell_type": "markdown",
   "metadata": {},
   "source": [
    "## Init weights"
   ]
  },
  {
   "cell_type": "code",
   "execution_count": 468,
   "metadata": {},
   "outputs": [
    {
     "data": {
      "text/plain": [
       "array([[ 0.3946066635],\n",
       "       [-0.4149557886],\n",
       "       [-0.4609452168],\n",
       "       [-0.3301695804],\n",
       "       [ 0.3781425034]])"
      ]
     },
     "execution_count": 468,
     "metadata": {},
     "output_type": "execute_result"
    }
   ],
   "source": [
    "\n",
    "weights = np.random.rand(5,1) - 0.5\n",
    "weights"
   ]
  },
  {
   "cell_type": "markdown",
   "metadata": {},
   "source": [
    "## Activation function"
   ]
  },
  {
   "cell_type": "code",
   "execution_count": 469,
   "metadata": {},
   "outputs": [],
   "source": [
    "def sigmoid(x):\n",
    "    return 1/(1+np.exp(-x))\n"
   ]
  },
  {
   "cell_type": "markdown",
   "metadata": {},
   "source": [
    "## Gradient descent"
   ]
  },
  {
   "cell_type": "code",
   "execution_count": 470,
   "metadata": {},
   "outputs": [],
   "source": [
    "def sigmoid_derivative(x):\n",
    "    return x * (1-x)"
   ]
  },
  {
   "cell_type": "markdown",
   "metadata": {},
   "source": [
    "## Learning"
   ]
  },
  {
   "cell_type": "code",
   "execution_count": 471,
   "metadata": {},
   "outputs": [],
   "source": [
    "def train(training_input, training_output, weights):\n",
    "    for i in range(100):\n",
    "        input_layer = training_input\n",
    "        output = sigmoid(input_layer.dot(weights))\n",
    "        error = training_output - output\n",
    "        adjustment = np.dot(training_input.T, error * sigmoid_derivative(output))\n",
    "        weights += adjustment\n",
    "    return weights, output\n",
    "\n",
    "weights = train(training_input, training_output, weights)[0]"
   ]
  },
  {
   "cell_type": "markdown",
   "metadata": {},
   "source": [
    "## Make prediction with test data"
   ]
  },
  {
   "cell_type": "code",
   "execution_count": 472,
   "metadata": {},
   "outputs": [
    {
     "data": {
      "text/plain": [
       "array([[0.3411230883],\n",
       "       [0.9546192298]])"
      ]
     },
     "execution_count": 472,
     "metadata": {},
     "output_type": "execute_result"
    }
   ],
   "source": [
    "test_data = np.array([[0,1,0,1,0],[1,1,1,1,1]])\n",
    "output = sigmoid(test_data.dot(weights))\n",
    "output"
   ]
  }
 ],
 "metadata": {
  "interpreter": {
   "hash": "8f7593b0efb75234b1d7a7bca7b011d44a229a944ce3640f4dcc8b43de7c4177"
  },
  "kernelspec": {
   "display_name": "Python 3.9.1 64-bit",
   "language": "python",
   "name": "python3"
  },
  "language_info": {
   "codemirror_mode": {
    "name": "ipython",
    "version": 3
   },
   "file_extension": ".py",
   "mimetype": "text/x-python",
   "name": "python",
   "nbconvert_exporter": "python",
   "pygments_lexer": "ipython3",
   "version": "3.9.1"
  },
  "orig_nbformat": 4
 },
 "nbformat": 4,
 "nbformat_minor": 2
}
