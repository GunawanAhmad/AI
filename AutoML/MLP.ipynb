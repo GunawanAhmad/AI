{
 "cells": [
  {
   "cell_type": "code",
   "execution_count": 1,
   "metadata": {},
   "outputs": [
    {
     "name": "stdout",
     "output_type": "stream",
     "text": [
      "Collecting niapy\n",
      "  Downloading niapy-2.0.2-py3-none-any.whl (176 kB)\n",
      "Requirement already satisfied: numpy>=1.17.0 in c:\\users\\gunawan nur ahmad\\appdata\\local\\programs\\python\\python39\\lib\\site-packages (from niapy) (1.20.2)\n",
      "Requirement already satisfied: matplotlib>=2.2.4 in c:\\users\\gunawan nur ahmad\\appdata\\local\\programs\\python\\python39\\lib\\site-packages (from niapy) (3.4.1)\n",
      "Requirement already satisfied: pandas>=0.24.2 in c:\\users\\gunawan nur ahmad\\appdata\\local\\programs\\python\\python39\\lib\\site-packages (from niapy) (1.2.4)\n",
      "Collecting openpyxl>=3.0.3\n",
      "  Downloading openpyxl-3.0.10-py2.py3-none-any.whl (242 kB)\n",
      "Requirement already satisfied: python-dateutil>=2.7 in c:\\users\\gunawan nur ahmad\\appdata\\local\\programs\\python\\python39\\lib\\site-packages (from matplotlib>=2.2.4->niapy) (2.8.1)\n",
      "Requirement already satisfied: kiwisolver>=1.0.1 in c:\\users\\gunawan nur ahmad\\appdata\\local\\programs\\python\\python39\\lib\\site-packages (from matplotlib>=2.2.4->niapy) (1.3.1)\n",
      "Requirement already satisfied: pillow>=6.2.0 in c:\\users\\gunawan nur ahmad\\appdata\\local\\programs\\python\\python39\\lib\\site-packages (from matplotlib>=2.2.4->niapy) (8.2.0)\n",
      "Requirement already satisfied: cycler>=0.10 in c:\\users\\gunawan nur ahmad\\appdata\\local\\programs\\python\\python39\\lib\\site-packages (from matplotlib>=2.2.4->niapy) (0.10.0)\n",
      "Requirement already satisfied: pyparsing>=2.2.1 in c:\\users\\gunawan nur ahmad\\appdata\\local\\programs\\python\\python39\\lib\\site-packages (from matplotlib>=2.2.4->niapy) (2.4.7)\n",
      "Requirement already satisfied: pytz>=2017.3 in c:\\users\\gunawan nur ahmad\\appdata\\local\\programs\\python\\python39\\lib\\site-packages (from pandas>=0.24.2->niapy) (2021.1)\n",
      "Collecting et-xmlfile\n",
      "  Downloading et_xmlfile-1.1.0-py3-none-any.whl (4.7 kB)\n",
      "Requirement already satisfied: six>=1.5 in c:\\users\\gunawan nur ahmad\\appdata\\roaming\\python\\python39\\site-packages (from python-dateutil>=2.7->matplotlib>=2.2.4->niapy) (1.15.0)\n",
      "Installing collected packages: et-xmlfile, openpyxl, niapy\n",
      "Successfully installed et-xmlfile-1.1.0 niapy-2.0.2 openpyxl-3.0.10\n"
     ]
    },
    {
     "name": "stderr",
     "output_type": "stream",
     "text": [
      "WARNING: You are using pip version 20.2.3; however, version 22.1.2 is available.\n",
      "You should consider upgrading via the 'c:\\users\\gunawan nur ahmad\\appdata\\local\\programs\\python\\python39\\python.exe -m pip install --upgrade pip' command.\n"
     ]
    },
    {
     "name": "stdout",
     "output_type": "stream",
     "text": [
      "Requirement already satisfied: scikit-learn in c:\\users\\gunawan nur ahmad\\appdata\\local\\programs\\python\\python39\\lib\\site-packages (1.0.2)"
     ]
    },
    {
     "name": "stderr",
     "output_type": "stream",
     "text": [
      "WARNING: You are using pip version 20.2.3; however, version 22.1.2 is available.\n",
      "You should consider upgrading via the 'c:\\users\\gunawan nur ahmad\\appdata\\local\\programs\\python\\python39\\python.exe -m pip install --upgrade pip' command.\n"
     ]
    },
    {
     "name": "stdout",
     "output_type": "stream",
     "text": [
      "\n",
      "Requirement already satisfied: scipy>=1.1.0 in c:\\users\\gunawan nur ahmad\\appdata\\local\\programs\\python\\python39\\lib\\site-packages (from scikit-learn) (1.6.3)\n",
      "Requirement already satisfied: numpy>=1.14.6 in c:\\users\\gunawan nur ahmad\\appdata\\local\\programs\\python\\python39\\lib\\site-packages (from scikit-learn) (1.20.2)\n",
      "Requirement already satisfied: joblib>=0.11 in c:\\users\\gunawan nur ahmad\\appdata\\local\\programs\\python\\python39\\lib\\site-packages (from scikit-learn) (1.1.0)\n",
      "Requirement already satisfied: threadpoolctl>=2.0.0 in c:\\users\\gunawan nur ahmad\\appdata\\local\\programs\\python\\python39\\lib\\site-packages (from scikit-learn) (3.1.0)\n"
     ]
    }
   ],
   "source": [
    "!pip install niapy --pre\n",
    "!pip install scikit-learn"
   ]
  },
  {
   "cell_type": "code",
   "execution_count": 2,
   "metadata": {},
   "outputs": [],
   "source": [
    "from sklearn.datasets import load_breast_cancer\n",
    "from sklearn.model_selection import train_test_split, cross_val_score\n",
    "from sklearn.neural_network import MLPClassifier\n",
    "from sklearn.datasets import make_classification\n",
    "from sklearn.model_selection import train_test_split\n",
    "\n",
    "from niapy.problems import Problem\n",
    "from niapy.task import OptimizationType, Task\n",
    "from niapy.algorithms.basic import GeneticAlgorithm\n",
    "from niapy.algorithms.modified import HybridBatAlgorithm\n",
    "import random"
   ]
  }
 ],
 "metadata": {
  "interpreter": {
   "hash": "8a5f0315c0f214d75cdc6cead94f6fc4e2709d2b727cdc6ea30f11ab3e3c3359"
  },
  "kernelspec": {
   "display_name": "Python 3.9.1 64-bit",
   "language": "python",
   "name": "python3"
  },
  "language_info": {
   "codemirror_mode": {
    "name": "ipython",
    "version": 3
   },
   "file_extension": ".py",
   "mimetype": "text/x-python",
   "name": "python",
   "nbconvert_exporter": "python",
   "pygments_lexer": "ipython3",
   "version": "3.9.1"
  },
  "orig_nbformat": 4
 },
 "nbformat": 4,
 "nbformat_minor": 2
}
