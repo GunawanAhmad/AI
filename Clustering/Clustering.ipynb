{
 "cells": [
  {
   "cell_type": "code",
   "execution_count": 1,
   "metadata": {},
   "outputs": [],
   "source": [
    "import numpy as np\n",
    "import matplotlib.pyplot as plt\n",
    "import pandas as pd\n",
    "import random"
   ]
  },
  {
   "cell_type": "code",
   "execution_count": 2,
   "metadata": {},
   "outputs": [
    {
     "data": {
      "text/html": [
       "<div>\n",
       "<style scoped>\n",
       "    .dataframe tbody tr th:only-of-type {\n",
       "        vertical-align: middle;\n",
       "    }\n",
       "\n",
       "    .dataframe tbody tr th {\n",
       "        vertical-align: top;\n",
       "    }\n",
       "\n",
       "    .dataframe thead th {\n",
       "        text-align: right;\n",
       "    }\n",
       "</style>\n",
       "<table border=\"1\" class=\"dataframe\">\n",
       "  <thead>\n",
       "    <tr style=\"text-align: right;\">\n",
       "      <th></th>\n",
       "      <th>Unnamed: 0</th>\n",
       "      <th>Umur</th>\n",
       "      <th>SIM</th>\n",
       "      <th>Jenis_Kelamin</th>\n",
       "      <th>Kode_Daerah</th>\n",
       "      <th>Umur_Kendaraan</th>\n",
       "      <th>Premi</th>\n",
       "      <th>Kanal_Penjualan</th>\n",
       "      <th>Lama_Berlangganan</th>\n",
       "      <th>Tertarik</th>\n",
       "      <th>Kendaraan_Rusak</th>\n",
       "    </tr>\n",
       "  </thead>\n",
       "  <tbody>\n",
       "    <tr>\n",
       "      <th>0</th>\n",
       "      <td>0</td>\n",
       "      <td>0.153846</td>\n",
       "      <td>1.0</td>\n",
       "      <td>0.0</td>\n",
       "      <td>33.0</td>\n",
       "      <td>1.0</td>\n",
       "      <td>0.047251</td>\n",
       "      <td>152.0</td>\n",
       "      <td>0.301038</td>\n",
       "      <td>0</td>\n",
       "      <td>0.0</td>\n",
       "    </tr>\n",
       "    <tr>\n",
       "      <th>1</th>\n",
       "      <td>1</td>\n",
       "      <td>0.430769</td>\n",
       "      <td>1.0</td>\n",
       "      <td>1.0</td>\n",
       "      <td>39.0</td>\n",
       "      <td>3.0</td>\n",
       "      <td>0.043104</td>\n",
       "      <td>29.0</td>\n",
       "      <td>0.512111</td>\n",
       "      <td>0</td>\n",
       "      <td>1.0</td>\n",
       "    </tr>\n",
       "    <tr>\n",
       "      <th>2</th>\n",
       "      <td>2</td>\n",
       "      <td>0.015385</td>\n",
       "      <td>1.0</td>\n",
       "      <td>1.0</td>\n",
       "      <td>46.0</td>\n",
       "      <td>1.0</td>\n",
       "      <td>0.056002</td>\n",
       "      <td>160.0</td>\n",
       "      <td>0.377163</td>\n",
       "      <td>0</td>\n",
       "      <td>0.0</td>\n",
       "    </tr>\n",
       "    <tr>\n",
       "      <th>3</th>\n",
       "      <td>3</td>\n",
       "      <td>0.584615</td>\n",
       "      <td>1.0</td>\n",
       "      <td>0.0</td>\n",
       "      <td>48.0</td>\n",
       "      <td>2.0</td>\n",
       "      <td>0.000000</td>\n",
       "      <td>124.0</td>\n",
       "      <td>0.183391</td>\n",
       "      <td>0</td>\n",
       "      <td>0.0</td>\n",
       "    </tr>\n",
       "    <tr>\n",
       "      <th>4</th>\n",
       "      <td>4</td>\n",
       "      <td>0.461538</td>\n",
       "      <td>1.0</td>\n",
       "      <td>1.0</td>\n",
       "      <td>35.0</td>\n",
       "      <td>3.0</td>\n",
       "      <td>0.059953</td>\n",
       "      <td>88.0</td>\n",
       "      <td>0.636678</td>\n",
       "      <td>0</td>\n",
       "      <td>1.0</td>\n",
       "    </tr>\n",
       "    <tr>\n",
       "      <th>...</th>\n",
       "      <td>...</td>\n",
       "      <td>...</td>\n",
       "      <td>...</td>\n",
       "      <td>...</td>\n",
       "      <td>...</td>\n",
       "      <td>...</td>\n",
       "      <td>...</td>\n",
       "      <td>...</td>\n",
       "      <td>...</td>\n",
       "      <td>...</td>\n",
       "      <td>...</td>\n",
       "    </tr>\n",
       "    <tr>\n",
       "      <th>285826</th>\n",
       "      <td>285826</td>\n",
       "      <td>0.046154</td>\n",
       "      <td>1.0</td>\n",
       "      <td>0.0</td>\n",
       "      <td>4.0</td>\n",
       "      <td>1.0</td>\n",
       "      <td>0.043454</td>\n",
       "      <td>152.0</td>\n",
       "      <td>0.716263</td>\n",
       "      <td>0</td>\n",
       "      <td>0.0</td>\n",
       "    </tr>\n",
       "    <tr>\n",
       "      <th>285827</th>\n",
       "      <td>285827</td>\n",
       "      <td>0.015385</td>\n",
       "      <td>1.0</td>\n",
       "      <td>0.0</td>\n",
       "      <td>46.0</td>\n",
       "      <td>1.0</td>\n",
       "      <td>0.078239</td>\n",
       "      <td>152.0</td>\n",
       "      <td>0.138408</td>\n",
       "      <td>0</td>\n",
       "      <td>0.0</td>\n",
       "    </tr>\n",
       "    <tr>\n",
       "      <th>285828</th>\n",
       "      <td>285828</td>\n",
       "      <td>0.046154</td>\n",
       "      <td>1.0</td>\n",
       "      <td>0.0</td>\n",
       "      <td>50.0</td>\n",
       "      <td>1.0</td>\n",
       "      <td>0.087661</td>\n",
       "      <td>152.0</td>\n",
       "      <td>0.747405</td>\n",
       "      <td>0</td>\n",
       "      <td>0.0</td>\n",
       "    </tr>\n",
       "    <tr>\n",
       "      <th>285829</th>\n",
       "      <td>285829</td>\n",
       "      <td>0.738462</td>\n",
       "      <td>1.0</td>\n",
       "      <td>1.0</td>\n",
       "      <td>7.0</td>\n",
       "      <td>2.0</td>\n",
       "      <td>0.051853</td>\n",
       "      <td>124.0</td>\n",
       "      <td>0.899654</td>\n",
       "      <td>0</td>\n",
       "      <td>0.0</td>\n",
       "    </tr>\n",
       "    <tr>\n",
       "      <th>285830</th>\n",
       "      <td>285830</td>\n",
       "      <td>0.384615</td>\n",
       "      <td>1.0</td>\n",
       "      <td>1.0</td>\n",
       "      <td>28.0</td>\n",
       "      <td>2.0</td>\n",
       "      <td>0.062973</td>\n",
       "      <td>26.0</td>\n",
       "      <td>0.117647</td>\n",
       "      <td>0</td>\n",
       "      <td>1.0</td>\n",
       "    </tr>\n",
       "  </tbody>\n",
       "</table>\n",
       "<p>285831 rows × 11 columns</p>\n",
       "</div>"
      ],
      "text/plain": [
       "        Unnamed: 0      Umur  SIM  Jenis_Kelamin  Kode_Daerah  Umur_Kendaraan  \\\n",
       "0                0  0.153846  1.0            0.0         33.0             1.0   \n",
       "1                1  0.430769  1.0            1.0         39.0             3.0   \n",
       "2                2  0.015385  1.0            1.0         46.0             1.0   \n",
       "3                3  0.584615  1.0            0.0         48.0             2.0   \n",
       "4                4  0.461538  1.0            1.0         35.0             3.0   \n",
       "...            ...       ...  ...            ...          ...             ...   \n",
       "285826      285826  0.046154  1.0            0.0          4.0             1.0   \n",
       "285827      285827  0.015385  1.0            0.0         46.0             1.0   \n",
       "285828      285828  0.046154  1.0            0.0         50.0             1.0   \n",
       "285829      285829  0.738462  1.0            1.0          7.0             2.0   \n",
       "285830      285830  0.384615  1.0            1.0         28.0             2.0   \n",
       "\n",
       "           Premi  Kanal_Penjualan  Lama_Berlangganan  Tertarik  \\\n",
       "0       0.047251            152.0           0.301038         0   \n",
       "1       0.043104             29.0           0.512111         0   \n",
       "2       0.056002            160.0           0.377163         0   \n",
       "3       0.000000            124.0           0.183391         0   \n",
       "4       0.059953             88.0           0.636678         0   \n",
       "...          ...              ...                ...       ...   \n",
       "285826  0.043454            152.0           0.716263         0   \n",
       "285827  0.078239            152.0           0.138408         0   \n",
       "285828  0.087661            152.0           0.747405         0   \n",
       "285829  0.051853            124.0           0.899654         0   \n",
       "285830  0.062973             26.0           0.117647         0   \n",
       "\n",
       "        Kendaraan_Rusak  \n",
       "0                   0.0  \n",
       "1                   1.0  \n",
       "2                   0.0  \n",
       "3                   0.0  \n",
       "4                   1.0  \n",
       "...                 ...  \n",
       "285826              0.0  \n",
       "285827              0.0  \n",
       "285828              0.0  \n",
       "285829              0.0  \n",
       "285830              1.0  \n",
       "\n",
       "[285831 rows x 11 columns]"
      ]
     },
     "execution_count": 2,
     "metadata": {},
     "output_type": "execute_result"
    }
   ],
   "source": [
    "dataset = pd.read_csv(\"./assets/Preprocessing_result.csv\")\n",
    "dataset"
   ]
  },
  {
   "cell_type": "code",
   "execution_count": 34,
   "metadata": {},
   "outputs": [],
   "source": [
    "array_lama_berlangganan = dataset['Lama_Berlangganan'].to_numpy()\n",
    "array_premi = dataset['Premi'].to_numpy()\n"
   ]
  },
  {
   "cell_type": "code",
   "execution_count": 4,
   "metadata": {},
   "outputs": [],
   "source": [
    "def euclid_distance(x1, x2, y1, y2):\n",
    "    return np.sqrt((x2 - x1)**2 + (y2 - y1)**2)"
   ]
  },
  {
   "cell_type": "code",
   "execution_count": 5,
   "metadata": {},
   "outputs": [],
   "source": [
    "def recalculate_clusters(array1, array2, centroids, k):\n",
    "    clusters = {}\n",
    "    for i in range(k):\n",
    "        clusters[i] = []\n",
    "    for i in range(len(array1)):\n",
    "        euc_dist = []\n",
    "        distance = 0\n",
    "        index = 0\n",
    "        for j in range(k):\n",
    "            if distance != 0:\n",
    "                temp = euclid_distance(array1[i], centroids[j][0], array2[i], centroids[j][1])\n",
    "                if temp < distance:\n",
    "                    distance = temp\n",
    "                    index = j\n",
    "            else:\n",
    "                distance = euclid_distance(array1[i], centroids[j][0], array2[i], centroids[j][1])\n",
    "                index = 0\n",
    "        clusters[index].append([array1[i], array2[i]])\n",
    "    return clusters"
   ]
  },
  {
   "cell_type": "code",
   "execution_count": 6,
   "metadata": {},
   "outputs": [],
   "source": [
    "def recalculate_centroids(centroids, clusters, k):\n",
    "    new_centroids = []\n",
    "    for i in range(k):\n",
    "        new_centroids.append([])\n",
    "    for i in range(k):\n",
    "        mean= np.mean(clusters[i], axis=0)\n",
    "        new_centroids[i].append(mean[0]) \n",
    "        new_centroids[i].append(mean[1])\n",
    "    return new_centroids"
   ]
  },
  {
   "cell_type": "code",
   "execution_count": 7,
   "metadata": {},
   "outputs": [],
   "source": [
    "def checkRepeatingCentroids(old_centroid, new_centroid, k):\n",
    "    count = 0\n",
    "    for i in range(k):\n",
    "        if old_centroid[i][0] == new_centroid[i][0] and old_centroid[i][1] == new_centroid[i][1]:\n",
    "            count = count + 1\n",
    "    \n",
    "    if count == k:\n",
    "        return True\n",
    "    return False"
   ]
  },
  {
   "cell_type": "code",
   "execution_count": 8,
   "metadata": {},
   "outputs": [],
   "source": [
    "def KMean(data_1, data_2, centroids, k):\n",
    "    clusters = []\n",
    "    while True:\n",
    "        clusters = recalculate_clusters(data_1, data_2, centroids, k)\n",
    "        new_centroids = recalculate_centroids(centroids, clusters, k)\n",
    "        if checkRepeatingCentroids(centroids, new_centroids, k):\n",
    "            break\n",
    "        centroids = np.copy(new_centroids)\n",
    "    return clusters, centroids"
   ]
  },
  {
   "cell_type": "markdown",
   "metadata": {},
   "source": [
    "# Find the right K with Elbow Method"
   ]
  },
  {
   "cell_type": "code",
   "execution_count": 9,
   "metadata": {},
   "outputs": [
    {
     "data": {
      "text/plain": [
       "[69351.00660179404,\n",
       " 19380.042961710442,\n",
       " 8260.334811097227,\n",
       " 5108.047292957334,\n",
       " 3268.2976318597402,\n",
       " 2432.998343525202,\n",
       " 1838.0786893869404,\n",
       " 1621.0016716234907]"
      ]
     },
     "execution_count": 9,
     "metadata": {},
     "output_type": "execute_result"
    }
   ],
   "source": [
    "WCSS = []\n",
    "np.random.seed(1)\n",
    "for k in range(1, 9):\n",
    "    centroids = [[random.choice(array_premi), random.choice(array_lama_berlangganan)] for i in range(k)]\n",
    "    clusters, centroids = KMean(array_premi, array_lama_berlangganan, centroids, k)\n",
    "    total = 0\n",
    "    for idx, cluster in clusters.items():\n",
    "        for i, val in enumerate(cluster):\n",
    "            distance = euclid_distance(val[0], centroids[idx][0], val[1], centroids[idx][1])\n",
    "            total = total + distance\n",
    "    avg = total / k\n",
    "    WCSS.append(avg)\n",
    "    \n",
    "    \n",
    "WCSS"
   ]
  },
  {
   "cell_type": "code",
   "execution_count": 10,
   "metadata": {},
   "outputs": [
    {
     "data": {
      "image/png": "[encoded data removed]",
      "text/plain": [
       "<Figure size 432x288 with 1 Axes>"
      ]
     },
     "metadata": {
      "needs_background": "light"
     },
     "output_type": "display_data"
    }
   ],
   "source": [
    "plt.plot([1,2,3,4,5,6,7,8], WCSS )\n",
    "plt.show()"
   ]
  },
  {
   "cell_type": "code",
   "execution_count": 33,
   "metadata": {},
   "outputs": [],
   "source": [
    "K = 3\n",
    "centroids = [[random.choice(array_premi), random.choice(array_lama_berlangganan)] for i in range(k)]\n",
    "clusters, centroids = KMean(array_premi, array_lama_berlangganan, centroids, K)"
   ]
  },
  {
   "cell_type": "code",
   "execution_count": 27,
   "metadata": {},
   "outputs": [
    {
     "data": {
      "image/png": "[encoded data removed]",
      "text/plain": [
       "<Figure size 432x288 with 1 Axes>"
      ]
     },
     "metadata": {
      "needs_background": "light"
     },
     "output_type": "display_data"
    }
   ],
   "source": [
    "plt.scatter(array_premi, array_lama_berlangganan)\n",
    "plt.show()"
   ]
  },
  {
   "cell_type": "code",
   "execution_count": 32,
   "metadata": {},
   "outputs": [
    {
     "data": {
      "image/png": "[encoded data removed]",
      "text/plain": [
       "<Figure size 432x288 with 1 Axes>"
      ]
     },
     "metadata": {
      "needs_background": "light"
     },
     "output_type": "display_data"
    }
   ],
   "source": [
    "colors = ['red', 'blue', 'green']\n",
    "labels = ['Cluster 1', 'Cluster 2', 'Cluster 3']\n",
    "for i in range(K):\n",
    "    plt.scatter([j[0] for j in clusters[i]], [j[1] for j in clusters[i]], c=colors[i], label=labels[i])\n",
    "    plt.scatter(centroids[i][0], centroids[i][1], marker = \"*\", c=\"yellow\", label=\"centroid\", s=130)\n",
    "plt.show()"
   ]
  }
 ],
 "metadata": {
  "interpreter": {
   "hash": "8a5f0315c0f214d75cdc6cead94f6fc4e2709d2b727cdc6ea30f11ab3e3c3359"
  },
  "kernelspec": {
   "display_name": "Python 3.9.1 64-bit",
   "name": "python3"
  },
  "language_info": {
   "codemirror_mode": {
    "name": "ipython",
    "version": 3
   },
   "file_extension": ".py",
   "mimetype": "text/x-python",
   "name": "python",
   "nbconvert_exporter": "python",
   "pygments_lexer": "ipython3",
   "version": "3.9.1"
  }
 },
 "nbformat": 4,
 "nbformat_minor": 4
}
