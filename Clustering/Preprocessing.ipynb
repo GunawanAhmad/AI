{
 "cells": [
  {
   "cell_type": "markdown",
   "metadata": {},
   "source": [
    "# Import Library"
   ]
  },
  {
   "cell_type": "code",
   "execution_count": 11,
   "metadata": {},
   "outputs": [],
   "source": [
    "import pandas\n",
    "import math\n",
    "import numpy as np\n",
    "from statistics import mode"
   ]
  },
  {
   "cell_type": "markdown",
   "metadata": {},
   "source": [
    "# Import dataset"
   ]
  },
  {
   "cell_type": "code",
   "execution_count": 3,
   "metadata": {},
   "outputs": [],
   "source": [
    "\n",
    "dataset = pd.read_csv('./assets/kendaraan_train.csv')\n",
    "array_id = dataset['id'].to_numpy()\n",
    "array_kendaraan_rusak = dataset['Kendaraan_Rusak'].map({'Pernah' : 1, 'Tidak' : 0}).to_numpy()\n",
    "array_sim = dataset['SIM'].to_numpy()\n",
    "array_jenis_kelamin = dataset['Jenis_Kelamin'].map({'Pria': 1, 'Wanita' : 0}).to_numpy()\n",
    "array_umur = dataset['Umur'].to_numpy()\n",
    "array_kode_daerah = dataset['Kode_Daerah'].to_numpy()\n",
    "array_umur_kendaraan = dataset['Umur_Kendaraan'].map({'< 1 Tahun' : 1, '1-2 Tahun' : 2, '> 2 Tahun' : 3}).to_numpy()\n",
    "array_premi = dataset['Premi'].to_numpy()\n",
    "array_kanal_penjualan = dataset['Kanal_Penjualan'].to_numpy()\n",
    "array_lama_berlangganan = dataset['Lama_Berlangganan'].to_numpy()\n",
    "array_tertarik = dataset['Tertarik'].to_numpy()"
   ]
  },
  {
   "cell_type": "markdown",
   "metadata": {},
   "source": [
    "# Handling Missing Value"
   ]
  },
  {
   "cell_type": "code",
   "execution_count": 4,
   "metadata": {},
   "outputs": [],
   "source": [
    "def isNaN(num):\n",
    "    return num != num"
   ]
  },
  {
   "cell_type": "code",
   "execution_count": 12,
   "metadata": {},
   "outputs": [],
   "source": [
    "def handling_missing_value(array, method):\n",
    "    if method == 'mean':\n",
    "        fill = math.floor(np.nanmean(array))\n",
    "    elif method == 'mode':\n",
    "        fill = mode(array)\n",
    "    for idx,val in enumerate(array):\n",
    "        if isNaN(val):\n",
    "            array[idx] = fill"
   ]
  },
  {
   "cell_type": "code",
   "execution_count": 13,
   "metadata": {},
   "outputs": [],
   "source": [
    "handling_missing_value(array_umur, 'mean')\n",
    "handling_missing_value(array_sim, 'mode')\n",
    "handling_missing_value(array_umur_kendaraan, 'mode')\n",
    "handling_missing_value(array_jenis_kelamin, 'mode')\n",
    "handling_missing_value(array_kode_daerah, 'mode')\n",
    "handling_missing_value(array_premi, 'mean')\n",
    "handling_missing_value(array_kanal_penjualan, 'mode')\n",
    "handling_missing_value(array_lama_berlangganan, 'mean')\n",
    "handling_missing_value(array_tertarik, 'mode')\n",
    "handling_missing_value(array_kendaraan_rusak, 'mode')"
   ]
  },
  {
   "cell_type": "markdown",
   "metadata": {},
   "source": [
    "# Normalization"
   ]
  },
  {
   "cell_type": "code",
   "execution_count": 14,
   "metadata": {},
   "outputs": [],
   "source": [
    "# Normalization\n",
    "def normalize_dataset(array):\n",
    "    max_value = np.amax(array)\n",
    "    min_value = np.amin(array)\n",
    "    \n",
    "    for i, val in enumerate(array):\n",
    "        array[i] = (array[i] - min_value) / (max_value - min_value)\n",
    "        "
   ]
  },
  {
   "cell_type": "code",
   "execution_count": 15,
   "metadata": {},
   "outputs": [],
   "source": [
    "normalize_dataset(array_umur)\n",
    "normalize_dataset(array_premi)\n",
    "normalize_dataset(array_lama_berlangganan)"
   ]
  },
  {
   "cell_type": "markdown",
   "metadata": {},
   "source": [
    "# Export to Preprocessing file"
   ]
  },
  {
   "cell_type": "code",
   "execution_count": 16,
   "metadata": {},
   "outputs": [],
   "source": [
    "def exportToCsv():\n",
    "    header_csv = {'Umur' : array_umur, 'SIM' : array_sim, 'Jenis_Kelamin' : array_jenis_kelamin, 'Kode_Daerah' : array_kode_daerah, 'Umur_Kendaraan' : array_umur_kendaraan, 'Premi' : array_premi, 'Kanal_Penjualan' : array_kanal_penjualan, 'Lama_Berlangganan' : array_lama_berlangganan, 'Tertarik' : array_tertarik, 'Kendaraan_Rusak' : array_kendaraan_rusak}\n",
    "    result_csv = pandas.DataFrame(header_csv, columns=['Umur', 'SIM', 'Jenis_Kelamin', 'Kode_Daerah', 'Umur_Kendaraan', 'Premi', 'Kanal_Penjualan', 'Lama_Berlangganan', 'Tertarik', 'Kendaraan_Rusak'])\n",
    "    result_csv.to_csv('./assets/Preprocessing_result.csv')"
   ]
  },
  {
   "cell_type": "code",
   "execution_count": 17,
   "metadata": {},
   "outputs": [],
   "source": [
    "exportToCsv()"
   ]
  }
 ],
 "metadata": {
  "interpreter": {
   "hash": "8a5f0315c0f214d75cdc6cead94f6fc4e2709d2b727cdc6ea30f11ab3e3c3359"
  },
  "kernelspec": {
   "display_name": "Python 3.9.1 64-bit",
   "name": "python3"
  },
  "language_info": {
   "codemirror_mode": {
    "name": "ipython",
    "version": 3
   },
   "file_extension": ".py",
   "mimetype": "text/x-python",
   "name": "python",
   "nbconvert_exporter": "python",
   "pygments_lexer": "ipython3",
   "version": "3.9.1"
  },
  "orig_nbformat": 4
 },
 "nbformat": 4,
 "nbformat_minor": 2
}
